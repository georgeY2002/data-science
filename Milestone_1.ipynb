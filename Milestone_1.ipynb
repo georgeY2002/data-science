{
  "cells": [
    {
      "cell_type": "code",
      "execution_count": null,
      "metadata": {
        "id": "2M7PEbRTTPVa"
      },
      "outputs": [],
      "source": [
        "import numpy as np\n",
        "import pandas as pd"
      ]
    },
    {
      "cell_type": "code",
      "execution_count": null,
      "metadata": {
        "colab": {
          "base_uri": "https://localhost:8080/"
        },
        "id": "x8OvPo2lXw2v",
        "outputId": "be22c087-aeb4-4db0-e6e9-1069c16f0b07"
      },
      "outputs": [
        {
          "name": "stdout",
          "output_type": "stream",
          "text": [
            "         Car Make Car Model  Year Engine Size (L) Horsepower Torque (lb-ft)  \\\n",
            "0         Porsche       911  2022               3        379            331   \n",
            "1     Lamborghini   Huracan  2021             5.2        630            443   \n",
            "2         Ferrari   488 GTB  2022             3.9        661            561   \n",
            "3            Audi        R8  2022             5.2        562            406   \n",
            "4         McLaren      720S  2021               4        710            568   \n",
            "...           ...       ...   ...             ...        ...            ...   \n",
            "1002   Koenigsegg     Jesko  2022               5       1280           1106   \n",
            "1003        Lotus     Evija  2021  Electric Motor       1972           1254   \n",
            "1004      McLaren     Senna  2021               4        789            590   \n",
            "1005       Pagani    Huayra  2021               6        764            738   \n",
            "1006        Rimac    Nevera  2021  Electric Motor       1888           1696   \n",
            "\n",
            "     0-60 MPH Time (seconds) Price (in USD)  \n",
            "0                          4        101,200  \n",
            "1                        2.8        274,390  \n",
            "2                          3        333,750  \n",
            "3                        3.2        142,700  \n",
            "4                        2.7        298,000  \n",
            "...                      ...            ...  \n",
            "1002                     2.5      3,000,000  \n",
            "1003                       2      2,000,000  \n",
            "1004                     2.7      1,000,000  \n",
            "1005                       3      2,600,000  \n",
            "1006                    1.85      2,400,000  \n",
            "\n",
            "[1007 rows x 8 columns]\n"
          ]
        }
      ],
      "source": [
        "from pandas import read_csv\n",
        "df = read_csv('Sport car price.csv')\n",
        "print(df)"
      ]
    },
    {
      "cell_type": "code",
      "execution_count": null,
      "metadata": {
        "colab": {
          "base_uri": "https://localhost:8080/"
        },
        "id": "-P_EP00pdzyt",
        "outputId": "c34ef121-9796-4999-9924-3c05564bac3f"
      },
      "outputs": [
        {
          "data": {
            "text/plain": [
              "Car Make                   object\n",
              "Car Model                  object\n",
              "Year                        int64\n",
              "Engine Size (L)            object\n",
              "Horsepower                 object\n",
              "Torque (lb-ft)             object\n",
              "0-60 MPH Time (seconds)    object\n",
              "Price (in USD)             object\n",
              "dtype: object"
            ]
          },
          "execution_count": 69,
          "metadata": {},
          "output_type": "execute_result"
        }
      ],
      "source": [
        "df.dtypes"
      ]
    },
    {
      "cell_type": "code",
      "execution_count": null,
      "metadata": {
        "colab": {
          "base_uri": "https://localhost:8080/",
          "height": 363
        },
        "id": "YO7qGWnmOjQk",
        "outputId": "4019c701-9724-48b6-9171-515676a90c08"
      },
      "outputs": [
        {
          "data": {
            "text/html": [
              "\n",
              "  <div id=\"df-78587f14-fce9-4d5f-9e09-c96671e82fac\">\n",
              "    <div class=\"colab-df-container\">\n",
              "      <div>\n",
              "<style scoped>\n",
              "    .dataframe tbody tr th:only-of-type {\n",
              "        vertical-align: middle;\n",
              "    }\n",
              "\n",
              "    .dataframe tbody tr th {\n",
              "        vertical-align: top;\n",
              "    }\n",
              "\n",
              "    .dataframe thead th {\n",
              "        text-align: right;\n",
              "    }\n",
              "</style>\n",
              "<table border=\"1\" class=\"dataframe\">\n",
              "  <thead>\n",
              "    <tr style=\"text-align: right;\">\n",
              "      <th></th>\n",
              "      <th>Car Make</th>\n",
              "      <th>Car Model</th>\n",
              "      <th>Year</th>\n",
              "      <th>Engine Size (L)</th>\n",
              "      <th>Horsepower</th>\n",
              "      <th>Torque (lb-ft)</th>\n",
              "      <th>0-60 MPH Time (seconds)</th>\n",
              "      <th>Price (in USD)</th>\n",
              "    </tr>\n",
              "  </thead>\n",
              "  <tbody>\n",
              "    <tr>\n",
              "      <th>0</th>\n",
              "      <td>Porsche</td>\n",
              "      <td>911</td>\n",
              "      <td>2022</td>\n",
              "      <td>3</td>\n",
              "      <td>379</td>\n",
              "      <td>331</td>\n",
              "      <td>4</td>\n",
              "      <td>101,200</td>\n",
              "    </tr>\n",
              "    <tr>\n",
              "      <th>1</th>\n",
              "      <td>Lamborghini</td>\n",
              "      <td>Huracan</td>\n",
              "      <td>2021</td>\n",
              "      <td>5.2</td>\n",
              "      <td>630</td>\n",
              "      <td>443</td>\n",
              "      <td>2.8</td>\n",
              "      <td>274,390</td>\n",
              "    </tr>\n",
              "    <tr>\n",
              "      <th>2</th>\n",
              "      <td>Ferrari</td>\n",
              "      <td>488 GTB</td>\n",
              "      <td>2022</td>\n",
              "      <td>3.9</td>\n",
              "      <td>661</td>\n",
              "      <td>561</td>\n",
              "      <td>3</td>\n",
              "      <td>333,750</td>\n",
              "    </tr>\n",
              "    <tr>\n",
              "      <th>3</th>\n",
              "      <td>Audi</td>\n",
              "      <td>R8</td>\n",
              "      <td>2022</td>\n",
              "      <td>5.2</td>\n",
              "      <td>562</td>\n",
              "      <td>406</td>\n",
              "      <td>3.2</td>\n",
              "      <td>142,700</td>\n",
              "    </tr>\n",
              "    <tr>\n",
              "      <th>4</th>\n",
              "      <td>McLaren</td>\n",
              "      <td>720S</td>\n",
              "      <td>2021</td>\n",
              "      <td>4</td>\n",
              "      <td>710</td>\n",
              "      <td>568</td>\n",
              "      <td>2.7</td>\n",
              "      <td>298,000</td>\n",
              "    </tr>\n",
              "    <tr>\n",
              "      <th>5</th>\n",
              "      <td>BMW</td>\n",
              "      <td>M8</td>\n",
              "      <td>2022</td>\n",
              "      <td>4.4</td>\n",
              "      <td>617</td>\n",
              "      <td>553</td>\n",
              "      <td>3.1</td>\n",
              "      <td>130,000</td>\n",
              "    </tr>\n",
              "    <tr>\n",
              "      <th>6</th>\n",
              "      <td>Mercedes-Benz</td>\n",
              "      <td>AMG GT</td>\n",
              "      <td>2021</td>\n",
              "      <td>4</td>\n",
              "      <td>523</td>\n",
              "      <td>494</td>\n",
              "      <td>3.8</td>\n",
              "      <td>118,500</td>\n",
              "    </tr>\n",
              "    <tr>\n",
              "      <th>7</th>\n",
              "      <td>Chevrolet</td>\n",
              "      <td>Corvette</td>\n",
              "      <td>2021</td>\n",
              "      <td>6.2</td>\n",
              "      <td>490</td>\n",
              "      <td>465</td>\n",
              "      <td>2.8</td>\n",
              "      <td>59,900</td>\n",
              "    </tr>\n",
              "    <tr>\n",
              "      <th>8</th>\n",
              "      <td>Ford</td>\n",
              "      <td>Mustang Shelby GT500</td>\n",
              "      <td>2022</td>\n",
              "      <td>5.2</td>\n",
              "      <td>760</td>\n",
              "      <td>625</td>\n",
              "      <td>3.5</td>\n",
              "      <td>81,000</td>\n",
              "    </tr>\n",
              "    <tr>\n",
              "      <th>9</th>\n",
              "      <td>Nissan</td>\n",
              "      <td>GT-R Nismo</td>\n",
              "      <td>2021</td>\n",
              "      <td>3.8</td>\n",
              "      <td>600</td>\n",
              "      <td>481</td>\n",
              "      <td>2.5</td>\n",
              "      <td>212,000</td>\n",
              "    </tr>\n",
              "  </tbody>\n",
              "</table>\n",
              "</div>\n",
              "      <button class=\"colab-df-convert\" onclick=\"convertToInteractive('df-78587f14-fce9-4d5f-9e09-c96671e82fac')\"\n",
              "              title=\"Convert this dataframe to an interactive table.\"\n",
              "              style=\"display:none;\">\n",
              "        \n",
              "  <svg xmlns=\"http://www.w3.org/2000/svg\" height=\"24px\"viewBox=\"0 0 24 24\"\n",
              "       width=\"24px\">\n",
              "    <path d=\"M0 0h24v24H0V0z\" fill=\"none\"/>\n",
              "    <path d=\"M18.56 5.44l.94 2.06.94-2.06 2.06-.94-2.06-.94-.94-2.06-.94 2.06-2.06.94zm-11 1L8.5 8.5l.94-2.06 2.06-.94-2.06-.94L8.5 2.5l-.94 2.06-2.06.94zm10 10l.94 2.06.94-2.06 2.06-.94-2.06-.94-.94-2.06-.94 2.06-2.06.94z\"/><path d=\"M17.41 7.96l-1.37-1.37c-.4-.4-.92-.59-1.43-.59-.52 0-1.04.2-1.43.59L10.3 9.45l-7.72 7.72c-.78.78-.78 2.05 0 2.83L4 21.41c.39.39.9.59 1.41.59.51 0 1.02-.2 1.41-.59l7.78-7.78 2.81-2.81c.8-.78.8-2.07 0-2.86zM5.41 20L4 18.59l7.72-7.72 1.47 1.35L5.41 20z\"/>\n",
              "  </svg>\n",
              "      </button>\n",
              "      \n",
              "  <style>\n",
              "    .colab-df-container {\n",
              "      display:flex;\n",
              "      flex-wrap:wrap;\n",
              "      gap: 12px;\n",
              "    }\n",
              "\n",
              "    .colab-df-convert {\n",
              "      background-color: #E8F0FE;\n",
              "      border: none;\n",
              "      border-radius: 50%;\n",
              "      cursor: pointer;\n",
              "      display: none;\n",
              "      fill: #1967D2;\n",
              "      height: 32px;\n",
              "      padding: 0 0 0 0;\n",
              "      width: 32px;\n",
              "    }\n",
              "\n",
              "    .colab-df-convert:hover {\n",
              "      background-color: #E2EBFA;\n",
              "      box-shadow: 0px 1px 2px rgba(60, 64, 67, 0.3), 0px 1px 3px 1px rgba(60, 64, 67, 0.15);\n",
              "      fill: #174EA6;\n",
              "    }\n",
              "\n",
              "    [theme=dark] .colab-df-convert {\n",
              "      background-color: #3B4455;\n",
              "      fill: #D2E3FC;\n",
              "    }\n",
              "\n",
              "    [theme=dark] .colab-df-convert:hover {\n",
              "      background-color: #434B5C;\n",
              "      box-shadow: 0px 1px 3px 1px rgba(0, 0, 0, 0.15);\n",
              "      filter: drop-shadow(0px 1px 2px rgba(0, 0, 0, 0.3));\n",
              "      fill: #FFFFFF;\n",
              "    }\n",
              "  </style>\n",
              "\n",
              "      <script>\n",
              "        const buttonEl =\n",
              "          document.querySelector('#df-78587f14-fce9-4d5f-9e09-c96671e82fac button.colab-df-convert');\n",
              "        buttonEl.style.display =\n",
              "          google.colab.kernel.accessAllowed ? 'block' : 'none';\n",
              "\n",
              "        async function convertToInteractive(key) {\n",
              "          const element = document.querySelector('#df-78587f14-fce9-4d5f-9e09-c96671e82fac');\n",
              "          const dataTable =\n",
              "            await google.colab.kernel.invokeFunction('convertToInteractive',\n",
              "                                                     [key], {});\n",
              "          if (!dataTable) return;\n",
              "\n",
              "          const docLinkHtml = 'Like what you see? Visit the ' +\n",
              "            '<a target=\"_blank\" href=https://colab.research.google.com/notebooks/data_table.ipynb>data table notebook</a>'\n",
              "            + ' to learn more about interactive tables.';\n",
              "          element.innerHTML = '';\n",
              "          dataTable['output_type'] = 'display_data';\n",
              "          await google.colab.output.renderOutput(dataTable, element);\n",
              "          const docLink = document.createElement('div');\n",
              "          docLink.innerHTML = docLinkHtml;\n",
              "          element.appendChild(docLink);\n",
              "        }\n",
              "      </script>\n",
              "    </div>\n",
              "  </div>\n",
              "  "
            ],
            "text/plain": [
              "        Car Make             Car Model  Year Engine Size (L) Horsepower  \\\n",
              "0        Porsche                   911  2022               3        379   \n",
              "1    Lamborghini               Huracan  2021             5.2        630   \n",
              "2        Ferrari               488 GTB  2022             3.9        661   \n",
              "3           Audi                    R8  2022             5.2        562   \n",
              "4        McLaren                  720S  2021               4        710   \n",
              "5            BMW                    M8  2022             4.4        617   \n",
              "6  Mercedes-Benz                AMG GT  2021               4        523   \n",
              "7      Chevrolet              Corvette  2021             6.2        490   \n",
              "8           Ford  Mustang Shelby GT500  2022             5.2        760   \n",
              "9         Nissan            GT-R Nismo  2021             3.8        600   \n",
              "\n",
              "  Torque (lb-ft) 0-60 MPH Time (seconds) Price (in USD)  \n",
              "0            331                       4        101,200  \n",
              "1            443                     2.8        274,390  \n",
              "2            561                       3        333,750  \n",
              "3            406                     3.2        142,700  \n",
              "4            568                     2.7        298,000  \n",
              "5            553                     3.1        130,000  \n",
              "6            494                     3.8        118,500  \n",
              "7            465                     2.8         59,900  \n",
              "8            625                     3.5         81,000  \n",
              "9            481                     2.5        212,000  "
            ]
          },
          "execution_count": 70,
          "metadata": {},
          "output_type": "execute_result"
        }
      ],
      "source": [
        "import pandas as pd\n",
        "df = pd.read_csv('Sport car price.csv')\n",
        "df.head(10)"
      ]
    },
    {
      "cell_type": "code",
      "execution_count": null,
      "metadata": {
        "colab": {
          "base_uri": "https://localhost:8080/",
          "height": 363
        },
        "id": "GlUMyEMvQHmD",
        "outputId": "593e7b71-b948-4c5b-8db3-66c67eb19bb7"
      },
      "outputs": [
        {
          "data": {
            "text/html": [
              "\n",
              "  <div id=\"df-e6cccd42-c9dc-4461-b903-a7a55283bea7\">\n",
              "    <div class=\"colab-df-container\">\n",
              "      <div>\n",
              "<style scoped>\n",
              "    .dataframe tbody tr th:only-of-type {\n",
              "        vertical-align: middle;\n",
              "    }\n",
              "\n",
              "    .dataframe tbody tr th {\n",
              "        vertical-align: top;\n",
              "    }\n",
              "\n",
              "    .dataframe thead th {\n",
              "        text-align: right;\n",
              "    }\n",
              "</style>\n",
              "<table border=\"1\" class=\"dataframe\">\n",
              "  <thead>\n",
              "    <tr style=\"text-align: right;\">\n",
              "      <th></th>\n",
              "      <th>Car Make</th>\n",
              "      <th>Car Model</th>\n",
              "      <th>Year</th>\n",
              "      <th>Engine Size (L)</th>\n",
              "      <th>Horsepower</th>\n",
              "      <th>Torque (lb-ft)</th>\n",
              "      <th>0-60 MPH Time (seconds)</th>\n",
              "      <th>Price (in USD)</th>\n",
              "    </tr>\n",
              "  </thead>\n",
              "  <tbody>\n",
              "    <tr>\n",
              "      <th>997</th>\n",
              "      <td>Chevrolet</td>\n",
              "      <td>Camaro</td>\n",
              "      <td>2021</td>\n",
              "      <td>6.2</td>\n",
              "      <td>455</td>\n",
              "      <td>455</td>\n",
              "      <td>4</td>\n",
              "      <td>25,000</td>\n",
              "    </tr>\n",
              "    <tr>\n",
              "      <th>998</th>\n",
              "      <td>Ford</td>\n",
              "      <td>Mustang</td>\n",
              "      <td>2021</td>\n",
              "      <td>2.3</td>\n",
              "      <td>310</td>\n",
              "      <td>350</td>\n",
              "      <td>5.3</td>\n",
              "      <td>27,205</td>\n",
              "    </tr>\n",
              "    <tr>\n",
              "      <th>999</th>\n",
              "      <td>Nissan</td>\n",
              "      <td>370Z</td>\n",
              "      <td>2021</td>\n",
              "      <td>3.7</td>\n",
              "      <td>332</td>\n",
              "      <td>270</td>\n",
              "      <td>5.1</td>\n",
              "      <td>30,090</td>\n",
              "    </tr>\n",
              "    <tr>\n",
              "      <th>1000</th>\n",
              "      <td>Aston Martin</td>\n",
              "      <td>Vantage</td>\n",
              "      <td>2021</td>\n",
              "      <td>4</td>\n",
              "      <td>503</td>\n",
              "      <td>505</td>\n",
              "      <td>3.6</td>\n",
              "      <td>146,000</td>\n",
              "    </tr>\n",
              "    <tr>\n",
              "      <th>1001</th>\n",
              "      <td>Bugatti</td>\n",
              "      <td>Chiron</td>\n",
              "      <td>2021</td>\n",
              "      <td>8</td>\n",
              "      <td>1479</td>\n",
              "      <td>1180</td>\n",
              "      <td>2.4</td>\n",
              "      <td>3,000,000</td>\n",
              "    </tr>\n",
              "    <tr>\n",
              "      <th>1002</th>\n",
              "      <td>Koenigsegg</td>\n",
              "      <td>Jesko</td>\n",
              "      <td>2022</td>\n",
              "      <td>5</td>\n",
              "      <td>1280</td>\n",
              "      <td>1106</td>\n",
              "      <td>2.5</td>\n",
              "      <td>3,000,000</td>\n",
              "    </tr>\n",
              "    <tr>\n",
              "      <th>1003</th>\n",
              "      <td>Lotus</td>\n",
              "      <td>Evija</td>\n",
              "      <td>2021</td>\n",
              "      <td>Electric Motor</td>\n",
              "      <td>1972</td>\n",
              "      <td>1254</td>\n",
              "      <td>2</td>\n",
              "      <td>2,000,000</td>\n",
              "    </tr>\n",
              "    <tr>\n",
              "      <th>1004</th>\n",
              "      <td>McLaren</td>\n",
              "      <td>Senna</td>\n",
              "      <td>2021</td>\n",
              "      <td>4</td>\n",
              "      <td>789</td>\n",
              "      <td>590</td>\n",
              "      <td>2.7</td>\n",
              "      <td>1,000,000</td>\n",
              "    </tr>\n",
              "    <tr>\n",
              "      <th>1005</th>\n",
              "      <td>Pagani</td>\n",
              "      <td>Huayra</td>\n",
              "      <td>2021</td>\n",
              "      <td>6</td>\n",
              "      <td>764</td>\n",
              "      <td>738</td>\n",
              "      <td>3</td>\n",
              "      <td>2,600,000</td>\n",
              "    </tr>\n",
              "    <tr>\n",
              "      <th>1006</th>\n",
              "      <td>Rimac</td>\n",
              "      <td>Nevera</td>\n",
              "      <td>2021</td>\n",
              "      <td>Electric Motor</td>\n",
              "      <td>1888</td>\n",
              "      <td>1696</td>\n",
              "      <td>1.85</td>\n",
              "      <td>2,400,000</td>\n",
              "    </tr>\n",
              "  </tbody>\n",
              "</table>\n",
              "</div>\n",
              "      <button class=\"colab-df-convert\" onclick=\"convertToInteractive('df-e6cccd42-c9dc-4461-b903-a7a55283bea7')\"\n",
              "              title=\"Convert this dataframe to an interactive table.\"\n",
              "              style=\"display:none;\">\n",
              "        \n",
              "  <svg xmlns=\"http://www.w3.org/2000/svg\" height=\"24px\"viewBox=\"0 0 24 24\"\n",
              "       width=\"24px\">\n",
              "    <path d=\"M0 0h24v24H0V0z\" fill=\"none\"/>\n",
              "    <path d=\"M18.56 5.44l.94 2.06.94-2.06 2.06-.94-2.06-.94-.94-2.06-.94 2.06-2.06.94zm-11 1L8.5 8.5l.94-2.06 2.06-.94-2.06-.94L8.5 2.5l-.94 2.06-2.06.94zm10 10l.94 2.06.94-2.06 2.06-.94-2.06-.94-.94-2.06-.94 2.06-2.06.94z\"/><path d=\"M17.41 7.96l-1.37-1.37c-.4-.4-.92-.59-1.43-.59-.52 0-1.04.2-1.43.59L10.3 9.45l-7.72 7.72c-.78.78-.78 2.05 0 2.83L4 21.41c.39.39.9.59 1.41.59.51 0 1.02-.2 1.41-.59l7.78-7.78 2.81-2.81c.8-.78.8-2.07 0-2.86zM5.41 20L4 18.59l7.72-7.72 1.47 1.35L5.41 20z\"/>\n",
              "  </svg>\n",
              "      </button>\n",
              "      \n",
              "  <style>\n",
              "    .colab-df-container {\n",
              "      display:flex;\n",
              "      flex-wrap:wrap;\n",
              "      gap: 12px;\n",
              "    }\n",
              "\n",
              "    .colab-df-convert {\n",
              "      background-color: #E8F0FE;\n",
              "      border: none;\n",
              "      border-radius: 50%;\n",
              "      cursor: pointer;\n",
              "      display: none;\n",
              "      fill: #1967D2;\n",
              "      height: 32px;\n",
              "      padding: 0 0 0 0;\n",
              "      width: 32px;\n",
              "    }\n",
              "\n",
              "    .colab-df-convert:hover {\n",
              "      background-color: #E2EBFA;\n",
              "      box-shadow: 0px 1px 2px rgba(60, 64, 67, 0.3), 0px 1px 3px 1px rgba(60, 64, 67, 0.15);\n",
              "      fill: #174EA6;\n",
              "    }\n",
              "\n",
              "    [theme=dark] .colab-df-convert {\n",
              "      background-color: #3B4455;\n",
              "      fill: #D2E3FC;\n",
              "    }\n",
              "\n",
              "    [theme=dark] .colab-df-convert:hover {\n",
              "      background-color: #434B5C;\n",
              "      box-shadow: 0px 1px 3px 1px rgba(0, 0, 0, 0.15);\n",
              "      filter: drop-shadow(0px 1px 2px rgba(0, 0, 0, 0.3));\n",
              "      fill: #FFFFFF;\n",
              "    }\n",
              "  </style>\n",
              "\n",
              "      <script>\n",
              "        const buttonEl =\n",
              "          document.querySelector('#df-e6cccd42-c9dc-4461-b903-a7a55283bea7 button.colab-df-convert');\n",
              "        buttonEl.style.display =\n",
              "          google.colab.kernel.accessAllowed ? 'block' : 'none';\n",
              "\n",
              "        async function convertToInteractive(key) {\n",
              "          const element = document.querySelector('#df-e6cccd42-c9dc-4461-b903-a7a55283bea7');\n",
              "          const dataTable =\n",
              "            await google.colab.kernel.invokeFunction('convertToInteractive',\n",
              "                                                     [key], {});\n",
              "          if (!dataTable) return;\n",
              "\n",
              "          const docLinkHtml = 'Like what you see? Visit the ' +\n",
              "            '<a target=\"_blank\" href=https://colab.research.google.com/notebooks/data_table.ipynb>data table notebook</a>'\n",
              "            + ' to learn more about interactive tables.';\n",
              "          element.innerHTML = '';\n",
              "          dataTable['output_type'] = 'display_data';\n",
              "          await google.colab.output.renderOutput(dataTable, element);\n",
              "          const docLink = document.createElement('div');\n",
              "          docLink.innerHTML = docLinkHtml;\n",
              "          element.appendChild(docLink);\n",
              "        }\n",
              "      </script>\n",
              "    </div>\n",
              "  </div>\n",
              "  "
            ],
            "text/plain": [
              "          Car Make Car Model  Year Engine Size (L) Horsepower Torque (lb-ft)  \\\n",
              "997      Chevrolet    Camaro  2021             6.2        455            455   \n",
              "998           Ford   Mustang  2021             2.3        310            350   \n",
              "999         Nissan      370Z  2021             3.7        332            270   \n",
              "1000  Aston Martin   Vantage  2021               4        503            505   \n",
              "1001       Bugatti    Chiron  2021               8       1479           1180   \n",
              "1002    Koenigsegg     Jesko  2022               5       1280           1106   \n",
              "1003         Lotus     Evija  2021  Electric Motor       1972           1254   \n",
              "1004       McLaren     Senna  2021               4        789            590   \n",
              "1005        Pagani    Huayra  2021               6        764            738   \n",
              "1006         Rimac    Nevera  2021  Electric Motor       1888           1696   \n",
              "\n",
              "     0-60 MPH Time (seconds) Price (in USD)  \n",
              "997                        4         25,000  \n",
              "998                      5.3         27,205  \n",
              "999                      5.1         30,090  \n",
              "1000                     3.6        146,000  \n",
              "1001                     2.4      3,000,000  \n",
              "1002                     2.5      3,000,000  \n",
              "1003                       2      2,000,000  \n",
              "1004                     2.7      1,000,000  \n",
              "1005                       3      2,600,000  \n",
              "1006                    1.85      2,400,000  "
            ]
          },
          "execution_count": 71,
          "metadata": {},
          "output_type": "execute_result"
        }
      ],
      "source": [
        "df.tail(10)"
      ]
    },
    {
      "cell_type": "code",
      "execution_count": null,
      "metadata": {
        "colab": {
          "base_uri": "https://localhost:8080/"
        },
        "id": "P1MbyjKyS3_n",
        "outputId": "398fd98d-eb11-41b0-fa47-1e0715728cc1"
      },
      "outputs": [
        {
          "data": {
            "text/plain": [
              "(1007, 8)"
            ]
          },
          "execution_count": 72,
          "metadata": {},
          "output_type": "execute_result"
        }
      ],
      "source": [
        "df.shape"
      ]
    },
    {
      "cell_type": "code",
      "execution_count": null,
      "metadata": {
        "colab": {
          "base_uri": "https://localhost:8080/"
        },
        "id": "O4fBdxJLTiwi",
        "outputId": "0dfc2318-70f8-4a99-96d4-65708d9e8a05"
      },
      "outputs": [
        {
          "data": {
            "text/plain": [
              "Index(['Car Make', 'Car Model', 'Year', 'Engine Size (L)', 'Horsepower',\n",
              "       'Torque (lb-ft)', '0-60 MPH Time (seconds)', 'Price (in USD)'],\n",
              "      dtype='object')"
            ]
          },
          "execution_count": 73,
          "metadata": {},
          "output_type": "execute_result"
        }
      ],
      "source": [
        "df.columns"
      ]
    },
    {
      "cell_type": "code",
      "execution_count": null,
      "metadata": {
        "colab": {
          "base_uri": "https://localhost:8080/",
          "height": 35
        },
        "id": "Kh1WWNNsUQf-",
        "outputId": "32083b5f-9651-4848-bfe9-4770eb6b7589"
      },
      "outputs": [
        {
          "data": {
            "application/vnd.google.colaboratory.intrinsic+json": {
              "type": "string"
            },
            "text/plain": [
              "'Price (in USD)'"
            ]
          },
          "execution_count": 74,
          "metadata": {},
          "output_type": "execute_result"
        }
      ],
      "source": [
        "df.columns[-1]\n"
      ]
    },
    {
      "cell_type": "code",
      "execution_count": null,
      "metadata": {
        "colab": {
          "base_uri": "https://localhost:8080/"
        },
        "id": "beAhgKcvgK0F",
        "outputId": "7f186588-2c32-49ac-98ac-03d471981d30"
      },
      "outputs": [
        {
          "name": "stdout",
          "output_type": "stream",
          "text": [
            "object\n"
          ]
        }
      ],
      "source": [
        "fourth_column_type = df.dtypes[3]\n",
        "print(fourth_column_type)"
      ]
    },
    {
      "cell_type": "code",
      "execution_count": null,
      "metadata": {
        "colab": {
          "base_uri": "https://localhost:8080/"
        },
        "id": "D_PRnJLnsc0G",
        "outputId": "77a329f4-6013-4090-80be-42cec48f3050"
      },
      "outputs": [
        {
          "data": {
            "text/plain": [
              "38"
            ]
          },
          "execution_count": 76,
          "metadata": {},
          "output_type": "execute_result"
        }
      ],
      "source": [
        "df['Car Make'].nunique()"
      ]
    },
    {
      "cell_type": "code",
      "execution_count": null,
      "metadata": {
        "colab": {
          "base_uri": "https://localhost:8080/"
        },
        "id": "aIBTbatPqijM",
        "outputId": "112fd023-cbb4-4184-c880-d0e9608afe3d"
      },
      "outputs": [
        {
          "data": {
            "text/plain": [
              "0    Porsche\n",
              "Name: Car Make, dtype: object"
            ]
          },
          "execution_count": 77,
          "metadata": {},
          "output_type": "execute_result"
        }
      ],
      "source": [
        "df['Car Make'].mode()"
      ]
    },
    {
      "cell_type": "code",
      "execution_count": null,
      "metadata": {
        "colab": {
          "base_uri": "https://localhost:8080/"
        },
        "id": "HNZcpR-Bkz7h",
        "outputId": "f23edffd-3c76-4c12-eef7-33d54453ceac"
      },
      "outputs": [
        {
          "name": "stdout",
          "output_type": "stream",
          "text": [
            "The most frequent value in 'Car Make' is: Porsche\n"
          ]
        }
      ],
      "source": [
        "most_frequent_value = df['Car Make'].value_counts().idxmax()\n",
        "print(\"The most frequent value in 'Car Make' is:\", most_frequent_value)\n"
      ]
    },
    {
      "cell_type": "code",
      "execution_count": null,
      "metadata": {
        "colab": {
          "base_uri": "https://localhost:8080/",
          "height": 300
        },
        "id": "ZwEbWonh9i2v",
        "outputId": "335b6361-819d-409e-95af-af3c434f764b"
      },
      "outputs": [
        {
          "data": {
            "text/html": [
              "\n",
              "  <div id=\"df-7010c155-991e-43d6-8f14-6b4d2a126d4a\">\n",
              "    <div class=\"colab-df-container\">\n",
              "      <div>\n",
              "<style scoped>\n",
              "    .dataframe tbody tr th:only-of-type {\n",
              "        vertical-align: middle;\n",
              "    }\n",
              "\n",
              "    .dataframe tbody tr th {\n",
              "        vertical-align: top;\n",
              "    }\n",
              "\n",
              "    .dataframe thead th {\n",
              "        text-align: right;\n",
              "    }\n",
              "</style>\n",
              "<table border=\"1\" class=\"dataframe\">\n",
              "  <thead>\n",
              "    <tr style=\"text-align: right;\">\n",
              "      <th></th>\n",
              "      <th>Year</th>\n",
              "    </tr>\n",
              "  </thead>\n",
              "  <tbody>\n",
              "    <tr>\n",
              "      <th>count</th>\n",
              "      <td>1007.000000</td>\n",
              "    </tr>\n",
              "    <tr>\n",
              "      <th>mean</th>\n",
              "      <td>2021.201589</td>\n",
              "    </tr>\n",
              "    <tr>\n",
              "      <th>std</th>\n",
              "      <td>2.019802</td>\n",
              "    </tr>\n",
              "    <tr>\n",
              "      <th>min</th>\n",
              "      <td>1965.000000</td>\n",
              "    </tr>\n",
              "    <tr>\n",
              "      <th>25%</th>\n",
              "      <td>2021.000000</td>\n",
              "    </tr>\n",
              "    <tr>\n",
              "      <th>50%</th>\n",
              "      <td>2021.000000</td>\n",
              "    </tr>\n",
              "    <tr>\n",
              "      <th>75%</th>\n",
              "      <td>2022.000000</td>\n",
              "    </tr>\n",
              "    <tr>\n",
              "      <th>max</th>\n",
              "      <td>2023.000000</td>\n",
              "    </tr>\n",
              "  </tbody>\n",
              "</table>\n",
              "</div>\n",
              "      <button class=\"colab-df-convert\" onclick=\"convertToInteractive('df-7010c155-991e-43d6-8f14-6b4d2a126d4a')\"\n",
              "              title=\"Convert this dataframe to an interactive table.\"\n",
              "              style=\"display:none;\">\n",
              "        \n",
              "  <svg xmlns=\"http://www.w3.org/2000/svg\" height=\"24px\"viewBox=\"0 0 24 24\"\n",
              "       width=\"24px\">\n",
              "    <path d=\"M0 0h24v24H0V0z\" fill=\"none\"/>\n",
              "    <path d=\"M18.56 5.44l.94 2.06.94-2.06 2.06-.94-2.06-.94-.94-2.06-.94 2.06-2.06.94zm-11 1L8.5 8.5l.94-2.06 2.06-.94-2.06-.94L8.5 2.5l-.94 2.06-2.06.94zm10 10l.94 2.06.94-2.06 2.06-.94-2.06-.94-.94-2.06-.94 2.06-2.06.94z\"/><path d=\"M17.41 7.96l-1.37-1.37c-.4-.4-.92-.59-1.43-.59-.52 0-1.04.2-1.43.59L10.3 9.45l-7.72 7.72c-.78.78-.78 2.05 0 2.83L4 21.41c.39.39.9.59 1.41.59.51 0 1.02-.2 1.41-.59l7.78-7.78 2.81-2.81c.8-.78.8-2.07 0-2.86zM5.41 20L4 18.59l7.72-7.72 1.47 1.35L5.41 20z\"/>\n",
              "  </svg>\n",
              "      </button>\n",
              "      \n",
              "  <style>\n",
              "    .colab-df-container {\n",
              "      display:flex;\n",
              "      flex-wrap:wrap;\n",
              "      gap: 12px;\n",
              "    }\n",
              "\n",
              "    .colab-df-convert {\n",
              "      background-color: #E8F0FE;\n",
              "      border: none;\n",
              "      border-radius: 50%;\n",
              "      cursor: pointer;\n",
              "      display: none;\n",
              "      fill: #1967D2;\n",
              "      height: 32px;\n",
              "      padding: 0 0 0 0;\n",
              "      width: 32px;\n",
              "    }\n",
              "\n",
              "    .colab-df-convert:hover {\n",
              "      background-color: #E2EBFA;\n",
              "      box-shadow: 0px 1px 2px rgba(60, 64, 67, 0.3), 0px 1px 3px 1px rgba(60, 64, 67, 0.15);\n",
              "      fill: #174EA6;\n",
              "    }\n",
              "\n",
              "    [theme=dark] .colab-df-convert {\n",
              "      background-color: #3B4455;\n",
              "      fill: #D2E3FC;\n",
              "    }\n",
              "\n",
              "    [theme=dark] .colab-df-convert:hover {\n",
              "      background-color: #434B5C;\n",
              "      box-shadow: 0px 1px 3px 1px rgba(0, 0, 0, 0.15);\n",
              "      filter: drop-shadow(0px 1px 2px rgba(0, 0, 0, 0.3));\n",
              "      fill: #FFFFFF;\n",
              "    }\n",
              "  </style>\n",
              "\n",
              "      <script>\n",
              "        const buttonEl =\n",
              "          document.querySelector('#df-7010c155-991e-43d6-8f14-6b4d2a126d4a button.colab-df-convert');\n",
              "        buttonEl.style.display =\n",
              "          google.colab.kernel.accessAllowed ? 'block' : 'none';\n",
              "\n",
              "        async function convertToInteractive(key) {\n",
              "          const element = document.querySelector('#df-7010c155-991e-43d6-8f14-6b4d2a126d4a');\n",
              "          const dataTable =\n",
              "            await google.colab.kernel.invokeFunction('convertToInteractive',\n",
              "                                                     [key], {});\n",
              "          if (!dataTable) return;\n",
              "\n",
              "          const docLinkHtml = 'Like what you see? Visit the ' +\n",
              "            '<a target=\"_blank\" href=https://colab.research.google.com/notebooks/data_table.ipynb>data table notebook</a>'\n",
              "            + ' to learn more about interactive tables.';\n",
              "          element.innerHTML = '';\n",
              "          dataTable['output_type'] = 'display_data';\n",
              "          await google.colab.output.renderOutput(dataTable, element);\n",
              "          const docLink = document.createElement('div');\n",
              "          docLink.innerHTML = docLinkHtml;\n",
              "          element.appendChild(docLink);\n",
              "        }\n",
              "      </script>\n",
              "    </div>\n",
              "  </div>\n",
              "  "
            ],
            "text/plain": [
              "              Year\n",
              "count  1007.000000\n",
              "mean   2021.201589\n",
              "std       2.019802\n",
              "min    1965.000000\n",
              "25%    2021.000000\n",
              "50%    2021.000000\n",
              "75%    2022.000000\n",
              "max    2023.000000"
            ]
          },
          "execution_count": 80,
          "metadata": {},
          "output_type": "execute_result"
        }
      ],
      "source": [
        "df.describe()  "
      ]
    },
    {
      "cell_type": "code",
      "execution_count": null,
      "metadata": {
        "colab": {
          "base_uri": "https://localhost:8080/"
        },
        "id": "sZqaYQH4R_PB",
        "outputId": "fff0a114-26f0-4a5c-f830-f54c0046956c"
      },
      "outputs": [
        {
          "name": "stdout",
          "output_type": "stream",
          "text": [
            "        Car Make             Car Model  Year Engine Size (L)  Horsepower  \\\n",
            "0        Porsche                   911  2022               3           1   \n",
            "2        Ferrari               488 GTB  2022             3.9           3   \n",
            "3           Audi                    R8  2022             5.2           4   \n",
            "5            BMW                    M8  2022             4.4           6   \n",
            "8           Ford  Mustang Shelby GT500  2022             5.2           9   \n",
            "...          ...                   ...   ...             ...         ...   \n",
            "984   Koenigsegg                 Jesko  2022               5          14   \n",
            "986        Rimac                Nevera  2022        Electric          25   \n",
            "987        Lotus                 Evija  2022        Electric          94   \n",
            "994      McLaren                    GT  2022               4          37   \n",
            "1002  Koenigsegg                 Jesko  2022               5          14   \n",
            "\n",
            "     Torque (lb-ft) 0-60 MPH Time (seconds) Price (in USD)  \n",
            "0               331                       4        101,200  \n",
            "2               561                       3        333,750  \n",
            "3               406                     3.2        142,700  \n",
            "5               553                     3.1        130,000  \n",
            "8               625                     3.5         81,000  \n",
            "...             ...                     ...            ...  \n",
            "984            1015                     2.5      3,000,000  \n",
            "986            1696                    1.85      2,400,000  \n",
            "987            1254                     2.5      2,000,000  \n",
            "994             465                     3.1        210,000  \n",
            "1002           1106                     2.5      3,000,000  \n",
            "\n",
            "[385 rows x 8 columns]\n"
          ]
        }
      ],
      "source": [
        "df2 = df.loc[(df['Year'] > 2021)]\n",
        "print(df2)\n"
      ]
    },
    {
      "cell_type": "code",
      "execution_count": null,
      "metadata": {
        "colab": {
          "base_uri": "https://localhost:8080/"
        },
        "id": "PTX7a5atfMPR",
        "outputId": "5805d078-dfe6-4ade-c6d9-95afd9a3e70a"
      },
      "outputs": [
        {
          "name": "stdout",
          "output_type": "stream",
          "text": [
            "Number of cars that start with 'Y': 0\n"
          ]
        }
      ],
      "source": [
        "y_cars = df[df['Car Model'].str.startswith('Y')]\n",
        "count = len(y_cars)\n",
        "print(\"Number of cars that start with 'Y':\", count)"
      ]
    },
    {
      "cell_type": "code",
      "execution_count": null,
      "metadata": {
        "colab": {
          "base_uri": "https://localhost:8080/"
        },
        "id": "_RyDtC3yCmvG",
        "outputId": "8bdf9c6e-d336-4c94-df5e-5c2203e778e9"
      },
      "outputs": [
        {
          "data": {
            "text/plain": [
              "count    1007.000000\n",
              "mean       38.693148\n",
              "std        25.348038\n",
              "min         1.000000\n",
              "25%        19.000000\n",
              "50%        32.000000\n",
              "75%        52.000000\n",
              "max       124.000000\n",
              "Name: Horsepower, dtype: float64"
            ]
          },
          "execution_count": 96,
          "metadata": {},
          "output_type": "execute_result"
        }
      ],
      "source": [
        "df['Horsepower'].describe()\n"
      ]
    },
    {
      "cell_type": "code",
      "execution_count": null,
      "metadata": {
        "colab": {
          "base_uri": "https://localhost:8080/"
        },
        "id": "ESNGtmoIXwzi",
        "outputId": "c6bb0a96-cf4f-4d90-daa3-826f0a8c363f"
      },
      "outputs": [
        {
          "name": "stdout",
          "output_type": "stream",
          "text": [
            "Car Make                   object\n",
            "Car Model                  object\n",
            "Year                       object\n",
            "Engine Size (L)            object\n",
            "Horsepower                  int64\n",
            "Torque (lb-ft)             object\n",
            "0-60 MPH Time (seconds)    object\n",
            "Price (in USD)             object\n",
            "dtype: object\n"
          ]
        }
      ],
      "source": [
        "df['Year'] = df['Year'].astype('object')\n",
        "print(df.dtypes)"
      ]
    },
    {
      "cell_type": "code",
      "execution_count": null,
      "metadata": {
        "colab": {
          "base_uri": "https://localhost:8080/"
        },
        "id": "xEYeaj0kFi_G",
        "outputId": "5e10d0f3-b826-4682-9d89-924c81110b48"
      },
      "outputs": [
        {
          "name": "stdout",
          "output_type": "stream",
          "text": [
            "                                Year                   Engine Size (L)         \\\n",
            "                               count unique   top freq           count unique   \n",
            "Car Make   Car Model                                                            \n",
            "Acura      NSX                    16      2  2021    9              16      1   \n",
            "Alfa Romeo 4C                      2      1  2020    2               2      2   \n",
            "           4C Spider               4      1  2020    4               4      2   \n",
            "           Giulia Quadrifoglio    10      2  2021    6              10      1   \n",
            "Alpine     A110                    1      1  2021    1               1      1   \n",
            "...                              ...    ...   ...  ...             ...    ...   \n",
            "Toyota     Supra                   3      2  2022    2               3      1   \n",
            "Ultima     RS                      1      1  2021    1               1      1   \n",
            "W Motors   Fenyr SuperSport        1      1  2022    1               1      1   \n",
            "           Fenyr Supersport        1      1  2022    1               1      1   \n",
            "           Lykan Hypersport        1      1  2015    1               1      1   \n",
            "\n",
            "                                         Horsepower         ...  \\\n",
            "                                top freq      count unique  ...   \n",
            "Car Make   Car Model                                        ...   \n",
            "Acura      NSX                  3.5   16         16      1  ...   \n",
            "Alfa Romeo 4C                   1.7    1          2      1  ...   \n",
            "           4C Spider            1.7    3          4      1  ...   \n",
            "           Giulia Quadrifoglio  2.9   10         10      1  ...   \n",
            "Alpine     A110                 1.8    1          1      1  ...   \n",
            "...                             ...  ...        ...    ...  ...   \n",
            "Toyota     Supra                  3    3          3      1  ...   \n",
            "Ultima     RS                   6.2    1          1      1  ...   \n",
            "W Motors   Fenyr SuperSport     3.8    1          1      1  ...   \n",
            "           Fenyr Supersport     3.8    1          1      1  ...   \n",
            "           Lykan Hypersport     3.7    1          1      1  ...   \n",
            "\n",
            "                               Torque (lb-ft)      0-60 MPH Time (seconds)  \\\n",
            "                                          top freq                   count   \n",
            "Car Make   Car Model                                                         \n",
            "Acura      NSX                            476   16                      16   \n",
            "Alfa Romeo 4C                             258    2                       2   \n",
            "           4C Spider                      258    4                       4   \n",
            "           Giulia Quadrifoglio            443   10                      10   \n",
            "Alpine     A110                           236    1                       1   \n",
            "...                                       ...  ...                     ...   \n",
            "Toyota     Supra                          368    3                       3   \n",
            "Ultima     RS                            1300    1                       1   \n",
            "W Motors   Fenyr SuperSport               723    1                       1   \n",
            "           Fenyr Supersport               723    1                       1   \n",
            "           Lykan Hypersport               708    1                       1   \n",
            "\n",
            "                                                Price (in USD)         \\\n",
            "                               unique  top freq          count unique   \n",
            "Car Make   Car Model                                                    \n",
            "Acura      NSX                      2  2.7   12             16      2   \n",
            "Alfa Romeo 4C                       2  4.1    1              2      1   \n",
            "           4C Spider                1  4.1    4              4      3   \n",
            "           Giulia Quadrifoglio      1  3.8   10             10     10   \n",
            "Alpine     A110                     1  4.4    1              1      1   \n",
            "...                               ...  ...  ...            ...    ...   \n",
            "Toyota     Supra                    1  3.9    3              3      2   \n",
            "Ultima     RS                       1  2.3    1              1      1   \n",
            "W Motors   Fenyr SuperSport         1  2.7    1              1      1   \n",
            "           Fenyr Supersport         1  2.7    1              1      1   \n",
            "           Lykan Hypersport         1  2.8    1              1      1   \n",
            "\n",
            "                                                \n",
            "                                      top freq  \n",
            "Car Make   Car Model                            \n",
            "Acura      NSX                    157,500   13  \n",
            "Alfa Romeo 4C                      67,150    2  \n",
            "           4C Spider               67,150    2  \n",
            "           Giulia Quadrifoglio     78,000    1  \n",
            "Alpine     A110                    71,500    1  \n",
            "...                                   ...  ...  \n",
            "Toyota     Supra                   43,090    2  \n",
            "Ultima     RS                     220,000    1  \n",
            "W Motors   Fenyr SuperSport     1,550,000    1  \n",
            "           Fenyr Supersport     1,700,000    1  \n",
            "           Lykan Hypersport     3,400,000    1  \n",
            "\n",
            "[178 rows x 24 columns]\n"
          ]
        }
      ],
      "source": [
        "grouped_df = df.groupby(['Car Make', 'Car Model'])\n",
        "grouped_statistics = grouped_df.describe()\n",
        "print(grouped_statistics)"
      ]
    },
    {
      "cell_type": "code",
      "execution_count": null,
      "metadata": {
        "colab": {
          "base_uri": "https://localhost:8080/"
        },
        "id": "2y4K-3MXbr72",
        "outputId": "e9850eb6-ccc3-4d52-fdd8-e0ab6cd1af3c"
      },
      "outputs": [
        {
          "data": {
            "text/plain": [
              "Car Make                    0\n",
              "Car Model                   0\n",
              "Year                        0\n",
              "Engine Size (L)            10\n",
              "Horsepower                  0\n",
              "Torque (lb-ft)              3\n",
              "0-60 MPH Time (seconds)     0\n",
              "Price (in USD)              0\n",
              "dtype: int64"
            ]
          },
          "execution_count": 26,
          "metadata": {},
          "output_type": "execute_result"
        }
      ],
      "source": [
        "df.isnull().sum()"
      ]
    },
    {
      "cell_type": "code",
      "execution_count": null,
      "metadata": {
        "colab": {
          "base_uri": "https://localhost:8080/"
        },
        "id": "rmBG_Y4E_QJ9",
        "outputId": "bb796f27-15ca-4921-ff93-b9112b006885"
      },
      "outputs": [
        {
          "name": "stdout",
          "output_type": "stream",
          "text": [
            "Index of rows with at least 2 missing values: Int64Index([916], dtype='int64')\n"
          ]
        }
      ],
      "source": [
        "missing_values_mask= df.isna().sum(axis=1) >= 2\n",
        "rows_with_2_missing_values_index = missing_values_mask[missing_values_mask].index\n",
        "print(\"Index of rows with at least 2 missing values:\", rows_with_2_missing_values_index)"
      ]
    },
    {
      "cell_type": "code",
      "execution_count": null,
      "metadata": {
        "colab": {
          "base_uri": "https://localhost:8080/",
          "height": 423
        },
        "id": "Ra0e1R1YN4Xc",
        "outputId": "7611425b-0986-4201-a5ba-953992ccd878"
      },
      "outputs": [
        {
          "data": {
            "text/html": [
              "\n",
              "  <div id=\"df-b536a115-ebcf-4744-b0b1-71f870c07721\">\n",
              "    <div class=\"colab-df-container\">\n",
              "      <div>\n",
              "<style scoped>\n",
              "    .dataframe tbody tr th:only-of-type {\n",
              "        vertical-align: middle;\n",
              "    }\n",
              "\n",
              "    .dataframe tbody tr th {\n",
              "        vertical-align: top;\n",
              "    }\n",
              "\n",
              "    .dataframe thead th {\n",
              "        text-align: right;\n",
              "    }\n",
              "</style>\n",
              "<table border=\"1\" class=\"dataframe\">\n",
              "  <thead>\n",
              "    <tr style=\"text-align: right;\">\n",
              "      <th></th>\n",
              "      <th>Car Make</th>\n",
              "      <th>Car Model</th>\n",
              "      <th>Year</th>\n",
              "      <th>Engine Size (L)</th>\n",
              "      <th>Horsepower</th>\n",
              "      <th>Torque (lb-ft)</th>\n",
              "      <th>0-60 MPH Time (seconds)</th>\n",
              "      <th>Price (in USD)</th>\n",
              "    </tr>\n",
              "  </thead>\n",
              "  <tbody>\n",
              "    <tr>\n",
              "      <th>0</th>\n",
              "      <td>Porsche</td>\n",
              "      <td>911</td>\n",
              "      <td>2022</td>\n",
              "      <td>3</td>\n",
              "      <td>379</td>\n",
              "      <td>331</td>\n",
              "      <td>4</td>\n",
              "      <td>101,200</td>\n",
              "    </tr>\n",
              "    <tr>\n",
              "      <th>1</th>\n",
              "      <td>Lamborghini</td>\n",
              "      <td>Huracan</td>\n",
              "      <td>2021</td>\n",
              "      <td>5.2</td>\n",
              "      <td>630</td>\n",
              "      <td>443</td>\n",
              "      <td>2.8</td>\n",
              "      <td>274,390</td>\n",
              "    </tr>\n",
              "    <tr>\n",
              "      <th>2</th>\n",
              "      <td>Ferrari</td>\n",
              "      <td>488 GTB</td>\n",
              "      <td>2022</td>\n",
              "      <td>3.9</td>\n",
              "      <td>661</td>\n",
              "      <td>561</td>\n",
              "      <td>3</td>\n",
              "      <td>333,750</td>\n",
              "    </tr>\n",
              "    <tr>\n",
              "      <th>3</th>\n",
              "      <td>Audi</td>\n",
              "      <td>R8</td>\n",
              "      <td>2022</td>\n",
              "      <td>5.2</td>\n",
              "      <td>562</td>\n",
              "      <td>406</td>\n",
              "      <td>3.2</td>\n",
              "      <td>142,700</td>\n",
              "    </tr>\n",
              "    <tr>\n",
              "      <th>4</th>\n",
              "      <td>McLaren</td>\n",
              "      <td>720S</td>\n",
              "      <td>2021</td>\n",
              "      <td>4</td>\n",
              "      <td>710</td>\n",
              "      <td>568</td>\n",
              "      <td>2.7</td>\n",
              "      <td>298,000</td>\n",
              "    </tr>\n",
              "    <tr>\n",
              "      <th>...</th>\n",
              "      <td>...</td>\n",
              "      <td>...</td>\n",
              "      <td>...</td>\n",
              "      <td>...</td>\n",
              "      <td>...</td>\n",
              "      <td>...</td>\n",
              "      <td>...</td>\n",
              "      <td>...</td>\n",
              "    </tr>\n",
              "    <tr>\n",
              "      <th>1002</th>\n",
              "      <td>Koenigsegg</td>\n",
              "      <td>Jesko</td>\n",
              "      <td>2022</td>\n",
              "      <td>5</td>\n",
              "      <td>1280</td>\n",
              "      <td>1106</td>\n",
              "      <td>2.5</td>\n",
              "      <td>3,000,000</td>\n",
              "    </tr>\n",
              "    <tr>\n",
              "      <th>1003</th>\n",
              "      <td>Lotus</td>\n",
              "      <td>Evija</td>\n",
              "      <td>2021</td>\n",
              "      <td>Electric Motor</td>\n",
              "      <td>1972</td>\n",
              "      <td>1254</td>\n",
              "      <td>2</td>\n",
              "      <td>2,000,000</td>\n",
              "    </tr>\n",
              "    <tr>\n",
              "      <th>1004</th>\n",
              "      <td>McLaren</td>\n",
              "      <td>Senna</td>\n",
              "      <td>2021</td>\n",
              "      <td>4</td>\n",
              "      <td>789</td>\n",
              "      <td>590</td>\n",
              "      <td>2.7</td>\n",
              "      <td>1,000,000</td>\n",
              "    </tr>\n",
              "    <tr>\n",
              "      <th>1005</th>\n",
              "      <td>Pagani</td>\n",
              "      <td>Huayra</td>\n",
              "      <td>2021</td>\n",
              "      <td>6</td>\n",
              "      <td>764</td>\n",
              "      <td>738</td>\n",
              "      <td>3</td>\n",
              "      <td>2,600,000</td>\n",
              "    </tr>\n",
              "    <tr>\n",
              "      <th>1006</th>\n",
              "      <td>Rimac</td>\n",
              "      <td>Nevera</td>\n",
              "      <td>2021</td>\n",
              "      <td>Electric Motor</td>\n",
              "      <td>1888</td>\n",
              "      <td>1696</td>\n",
              "      <td>1.85</td>\n",
              "      <td>2,400,000</td>\n",
              "    </tr>\n",
              "  </tbody>\n",
              "</table>\n",
              "<p>995 rows × 8 columns</p>\n",
              "</div>\n",
              "      <button class=\"colab-df-convert\" onclick=\"convertToInteractive('df-b536a115-ebcf-4744-b0b1-71f870c07721')\"\n",
              "              title=\"Convert this dataframe to an interactive table.\"\n",
              "              style=\"display:none;\">\n",
              "        \n",
              "  <svg xmlns=\"http://www.w3.org/2000/svg\" height=\"24px\"viewBox=\"0 0 24 24\"\n",
              "       width=\"24px\">\n",
              "    <path d=\"M0 0h24v24H0V0z\" fill=\"none\"/>\n",
              "    <path d=\"M18.56 5.44l.94 2.06.94-2.06 2.06-.94-2.06-.94-.94-2.06-.94 2.06-2.06.94zm-11 1L8.5 8.5l.94-2.06 2.06-.94-2.06-.94L8.5 2.5l-.94 2.06-2.06.94zm10 10l.94 2.06.94-2.06 2.06-.94-2.06-.94-.94-2.06-.94 2.06-2.06.94z\"/><path d=\"M17.41 7.96l-1.37-1.37c-.4-.4-.92-.59-1.43-.59-.52 0-1.04.2-1.43.59L10.3 9.45l-7.72 7.72c-.78.78-.78 2.05 0 2.83L4 21.41c.39.39.9.59 1.41.59.51 0 1.02-.2 1.41-.59l7.78-7.78 2.81-2.81c.8-.78.8-2.07 0-2.86zM5.41 20L4 18.59l7.72-7.72 1.47 1.35L5.41 20z\"/>\n",
              "  </svg>\n",
              "      </button>\n",
              "      \n",
              "  <style>\n",
              "    .colab-df-container {\n",
              "      display:flex;\n",
              "      flex-wrap:wrap;\n",
              "      gap: 12px;\n",
              "    }\n",
              "\n",
              "    .colab-df-convert {\n",
              "      background-color: #E8F0FE;\n",
              "      border: none;\n",
              "      border-radius: 50%;\n",
              "      cursor: pointer;\n",
              "      display: none;\n",
              "      fill: #1967D2;\n",
              "      height: 32px;\n",
              "      padding: 0 0 0 0;\n",
              "      width: 32px;\n",
              "    }\n",
              "\n",
              "    .colab-df-convert:hover {\n",
              "      background-color: #E2EBFA;\n",
              "      box-shadow: 0px 1px 2px rgba(60, 64, 67, 0.3), 0px 1px 3px 1px rgba(60, 64, 67, 0.15);\n",
              "      fill: #174EA6;\n",
              "    }\n",
              "\n",
              "    [theme=dark] .colab-df-convert {\n",
              "      background-color: #3B4455;\n",
              "      fill: #D2E3FC;\n",
              "    }\n",
              "\n",
              "    [theme=dark] .colab-df-convert:hover {\n",
              "      background-color: #434B5C;\n",
              "      box-shadow: 0px 1px 3px 1px rgba(0, 0, 0, 0.15);\n",
              "      filter: drop-shadow(0px 1px 2px rgba(0, 0, 0, 0.3));\n",
              "      fill: #FFFFFF;\n",
              "    }\n",
              "  </style>\n",
              "\n",
              "      <script>\n",
              "        const buttonEl =\n",
              "          document.querySelector('#df-b536a115-ebcf-4744-b0b1-71f870c07721 button.colab-df-convert');\n",
              "        buttonEl.style.display =\n",
              "          google.colab.kernel.accessAllowed ? 'block' : 'none';\n",
              "\n",
              "        async function convertToInteractive(key) {\n",
              "          const element = document.querySelector('#df-b536a115-ebcf-4744-b0b1-71f870c07721');\n",
              "          const dataTable =\n",
              "            await google.colab.kernel.invokeFunction('convertToInteractive',\n",
              "                                                     [key], {});\n",
              "          if (!dataTable) return;\n",
              "\n",
              "          const docLinkHtml = 'Like what you see? Visit the ' +\n",
              "            '<a target=\"_blank\" href=https://colab.research.google.com/notebooks/data_table.ipynb>data table notebook</a>'\n",
              "            + ' to learn more about interactive tables.';\n",
              "          element.innerHTML = '';\n",
              "          dataTable['output_type'] = 'display_data';\n",
              "          await google.colab.output.renderOutput(dataTable, element);\n",
              "          const docLink = document.createElement('div');\n",
              "          docLink.innerHTML = docLinkHtml;\n",
              "          element.appendChild(docLink);\n",
              "        }\n",
              "      </script>\n",
              "    </div>\n",
              "  </div>\n",
              "  "
            ],
            "text/plain": [
              "         Car Make Car Model  Year Engine Size (L) Horsepower Torque (lb-ft)  \\\n",
              "0         Porsche       911  2022               3        379            331   \n",
              "1     Lamborghini   Huracan  2021             5.2        630            443   \n",
              "2         Ferrari   488 GTB  2022             3.9        661            561   \n",
              "3            Audi        R8  2022             5.2        562            406   \n",
              "4         McLaren      720S  2021               4        710            568   \n",
              "...           ...       ...   ...             ...        ...            ...   \n",
              "1002   Koenigsegg     Jesko  2022               5       1280           1106   \n",
              "1003        Lotus     Evija  2021  Electric Motor       1972           1254   \n",
              "1004      McLaren     Senna  2021               4        789            590   \n",
              "1005       Pagani    Huayra  2021               6        764            738   \n",
              "1006        Rimac    Nevera  2021  Electric Motor       1888           1696   \n",
              "\n",
              "     0-60 MPH Time (seconds) Price (in USD)  \n",
              "0                          4        101,200  \n",
              "1                        2.8        274,390  \n",
              "2                          3        333,750  \n",
              "3                        3.2        142,700  \n",
              "4                        2.7        298,000  \n",
              "...                      ...            ...  \n",
              "1002                     2.5      3,000,000  \n",
              "1003                       2      2,000,000  \n",
              "1004                     2.7      1,000,000  \n",
              "1005                       3      2,600,000  \n",
              "1006                    1.85      2,400,000  \n",
              "\n",
              "[995 rows x 8 columns]"
            ]
          },
          "execution_count": 115,
          "metadata": {},
          "output_type": "execute_result"
        }
      ],
      "source": [
        "df.dropna()"
      ]
    },
    {
      "cell_type": "code",
      "execution_count": null,
      "metadata": {
        "colab": {
          "base_uri": "https://localhost:8080/"
        },
        "id": "04dbZgfnG-xu",
        "outputId": "17c88928-8de4-4f3e-a01d-e1d88f57e78c"
      },
      "outputs": [
        {
          "name": "stdout",
          "output_type": "stream",
          "text": [
            "         Car Make Car Model  Year Engine Size (L) Horsepower Torque (lb-ft)  \\\n",
            "0         Porsche       911  2022               3        379            331   \n",
            "1     Lamborghini   Huracan  2021             5.2        630            443   \n",
            "2         Ferrari   488 GTB  2022             3.9        661            561   \n",
            "3            Audi        R8  2022             5.2        562            406   \n",
            "4         McLaren      720S  2021               4        710            568   \n",
            "...           ...       ...   ...             ...        ...            ...   \n",
            "1002   Koenigsegg     Jesko  2022               5       1280           1106   \n",
            "1003        Lotus     Evija  2021  Electric Motor       1972           1254   \n",
            "1004      McLaren     Senna  2021               4        789            590   \n",
            "1005       Pagani    Huayra  2021               6        764            738   \n",
            "1006        Rimac    Nevera  2021  Electric Motor       1888           1696   \n",
            "\n",
            "     0-60 MPH Time (seconds) Price (in USD)  \n",
            "0                          4        101,200  \n",
            "1                        2.8        274,390  \n",
            "2                          3        333,750  \n",
            "3                        3.2        142,700  \n",
            "4                        2.7        298,000  \n",
            "...                      ...            ...  \n",
            "1002                     2.5      3,000,000  \n",
            "1003                       2      2,000,000  \n",
            "1004                     2.7      1,000,000  \n",
            "1005                       3      2,600,000  \n",
            "1006                    1.85      2,400,000  \n",
            "\n",
            "[1007 rows x 8 columns]\n"
          ]
        }
      ],
      "source": [
        "mode = df['Engine Size (L)'].mode()\n",
        "df['Engine Size (L)'] = df['Engine Size (L)'].fillna(mode[0])\n",
        "print(df)"
      ]
    },
    {
      "cell_type": "code",
      "execution_count": null,
      "metadata": {
        "colab": {
          "base_uri": "https://localhost:8080/"
        },
        "id": "ieU7VXOKbti2",
        "outputId": "38687456-faec-4b70-947b-225f52066e91"
      },
      "outputs": [
        {
          "data": {
            "text/plain": [
              "288"
            ]
          },
          "execution_count": 117,
          "metadata": {},
          "output_type": "execute_result"
        }
      ],
      "source": [
        "df.duplicated().sum()"
      ]
    },
    {
      "cell_type": "code",
      "execution_count": null,
      "metadata": {
        "colab": {
          "base_uri": "https://localhost:8080/",
          "height": 423
        },
        "id": "cuoWR2a0ebxs",
        "outputId": "bcc8bb22-83ff-4213-d21c-7ac17b7122eb"
      },
      "outputs": [
        {
          "data": {
            "text/html": [
              "\n",
              "  <div id=\"df-f6385a14-8958-4098-826a-7cbeb8f45d9d\">\n",
              "    <div class=\"colab-df-container\">\n",
              "      <div>\n",
              "<style scoped>\n",
              "    .dataframe tbody tr th:only-of-type {\n",
              "        vertical-align: middle;\n",
              "    }\n",
              "\n",
              "    .dataframe tbody tr th {\n",
              "        vertical-align: top;\n",
              "    }\n",
              "\n",
              "    .dataframe thead th {\n",
              "        text-align: right;\n",
              "    }\n",
              "</style>\n",
              "<table border=\"1\" class=\"dataframe\">\n",
              "  <thead>\n",
              "    <tr style=\"text-align: right;\">\n",
              "      <th></th>\n",
              "      <th>Car Make</th>\n",
              "      <th>Car Model</th>\n",
              "      <th>Year</th>\n",
              "      <th>Engine Size (L)</th>\n",
              "      <th>Horsepower</th>\n",
              "      <th>Torque (lb-ft)</th>\n",
              "      <th>0-60 MPH Time (seconds)</th>\n",
              "      <th>Price (in USD)</th>\n",
              "    </tr>\n",
              "  </thead>\n",
              "  <tbody>\n",
              "    <tr>\n",
              "      <th>0</th>\n",
              "      <td>Porsche</td>\n",
              "      <td>911</td>\n",
              "      <td>2022</td>\n",
              "      <td>3</td>\n",
              "      <td>379</td>\n",
              "      <td>331</td>\n",
              "      <td>4</td>\n",
              "      <td>101,200</td>\n",
              "    </tr>\n",
              "    <tr>\n",
              "      <th>1</th>\n",
              "      <td>Lamborghini</td>\n",
              "      <td>Huracan</td>\n",
              "      <td>2021</td>\n",
              "      <td>5.2</td>\n",
              "      <td>630</td>\n",
              "      <td>443</td>\n",
              "      <td>2.8</td>\n",
              "      <td>274,390</td>\n",
              "    </tr>\n",
              "    <tr>\n",
              "      <th>2</th>\n",
              "      <td>Ferrari</td>\n",
              "      <td>488 GTB</td>\n",
              "      <td>2022</td>\n",
              "      <td>3.9</td>\n",
              "      <td>661</td>\n",
              "      <td>561</td>\n",
              "      <td>3</td>\n",
              "      <td>333,750</td>\n",
              "    </tr>\n",
              "    <tr>\n",
              "      <th>3</th>\n",
              "      <td>Audi</td>\n",
              "      <td>R8</td>\n",
              "      <td>2022</td>\n",
              "      <td>5.2</td>\n",
              "      <td>562</td>\n",
              "      <td>406</td>\n",
              "      <td>3.2</td>\n",
              "      <td>142,700</td>\n",
              "    </tr>\n",
              "    <tr>\n",
              "      <th>4</th>\n",
              "      <td>McLaren</td>\n",
              "      <td>720S</td>\n",
              "      <td>2021</td>\n",
              "      <td>4</td>\n",
              "      <td>710</td>\n",
              "      <td>568</td>\n",
              "      <td>2.7</td>\n",
              "      <td>298,000</td>\n",
              "    </tr>\n",
              "    <tr>\n",
              "      <th>...</th>\n",
              "      <td>...</td>\n",
              "      <td>...</td>\n",
              "      <td>...</td>\n",
              "      <td>...</td>\n",
              "      <td>...</td>\n",
              "      <td>...</td>\n",
              "      <td>...</td>\n",
              "      <td>...</td>\n",
              "    </tr>\n",
              "    <tr>\n",
              "      <th>1002</th>\n",
              "      <td>Koenigsegg</td>\n",
              "      <td>Jesko</td>\n",
              "      <td>2022</td>\n",
              "      <td>5</td>\n",
              "      <td>1280</td>\n",
              "      <td>1106</td>\n",
              "      <td>2.5</td>\n",
              "      <td>3,000,000</td>\n",
              "    </tr>\n",
              "    <tr>\n",
              "      <th>1003</th>\n",
              "      <td>Lotus</td>\n",
              "      <td>Evija</td>\n",
              "      <td>2021</td>\n",
              "      <td>Electric Motor</td>\n",
              "      <td>1972</td>\n",
              "      <td>1254</td>\n",
              "      <td>2</td>\n",
              "      <td>2,000,000</td>\n",
              "    </tr>\n",
              "    <tr>\n",
              "      <th>1004</th>\n",
              "      <td>McLaren</td>\n",
              "      <td>Senna</td>\n",
              "      <td>2021</td>\n",
              "      <td>4</td>\n",
              "      <td>789</td>\n",
              "      <td>590</td>\n",
              "      <td>2.7</td>\n",
              "      <td>1,000,000</td>\n",
              "    </tr>\n",
              "    <tr>\n",
              "      <th>1005</th>\n",
              "      <td>Pagani</td>\n",
              "      <td>Huayra</td>\n",
              "      <td>2021</td>\n",
              "      <td>6</td>\n",
              "      <td>764</td>\n",
              "      <td>738</td>\n",
              "      <td>3</td>\n",
              "      <td>2,600,000</td>\n",
              "    </tr>\n",
              "    <tr>\n",
              "      <th>1006</th>\n",
              "      <td>Rimac</td>\n",
              "      <td>Nevera</td>\n",
              "      <td>2021</td>\n",
              "      <td>Electric Motor</td>\n",
              "      <td>1888</td>\n",
              "      <td>1696</td>\n",
              "      <td>1.85</td>\n",
              "      <td>2,400,000</td>\n",
              "    </tr>\n",
              "  </tbody>\n",
              "</table>\n",
              "<p>1007 rows × 8 columns</p>\n",
              "</div>\n",
              "      <button class=\"colab-df-convert\" onclick=\"convertToInteractive('df-f6385a14-8958-4098-826a-7cbeb8f45d9d')\"\n",
              "              title=\"Convert this dataframe to an interactive table.\"\n",
              "              style=\"display:none;\">\n",
              "        \n",
              "  <svg xmlns=\"http://www.w3.org/2000/svg\" height=\"24px\"viewBox=\"0 0 24 24\"\n",
              "       width=\"24px\">\n",
              "    <path d=\"M0 0h24v24H0V0z\" fill=\"none\"/>\n",
              "    <path d=\"M18.56 5.44l.94 2.06.94-2.06 2.06-.94-2.06-.94-.94-2.06-.94 2.06-2.06.94zm-11 1L8.5 8.5l.94-2.06 2.06-.94-2.06-.94L8.5 2.5l-.94 2.06-2.06.94zm10 10l.94 2.06.94-2.06 2.06-.94-2.06-.94-.94-2.06-.94 2.06-2.06.94z\"/><path d=\"M17.41 7.96l-1.37-1.37c-.4-.4-.92-.59-1.43-.59-.52 0-1.04.2-1.43.59L10.3 9.45l-7.72 7.72c-.78.78-.78 2.05 0 2.83L4 21.41c.39.39.9.59 1.41.59.51 0 1.02-.2 1.41-.59l7.78-7.78 2.81-2.81c.8-.78.8-2.07 0-2.86zM5.41 20L4 18.59l7.72-7.72 1.47 1.35L5.41 20z\"/>\n",
              "  </svg>\n",
              "      </button>\n",
              "      \n",
              "  <style>\n",
              "    .colab-df-container {\n",
              "      display:flex;\n",
              "      flex-wrap:wrap;\n",
              "      gap: 12px;\n",
              "    }\n",
              "\n",
              "    .colab-df-convert {\n",
              "      background-color: #E8F0FE;\n",
              "      border: none;\n",
              "      border-radius: 50%;\n",
              "      cursor: pointer;\n",
              "      display: none;\n",
              "      fill: #1967D2;\n",
              "      height: 32px;\n",
              "      padding: 0 0 0 0;\n",
              "      width: 32px;\n",
              "    }\n",
              "\n",
              "    .colab-df-convert:hover {\n",
              "      background-color: #E2EBFA;\n",
              "      box-shadow: 0px 1px 2px rgba(60, 64, 67, 0.3), 0px 1px 3px 1px rgba(60, 64, 67, 0.15);\n",
              "      fill: #174EA6;\n",
              "    }\n",
              "\n",
              "    [theme=dark] .colab-df-convert {\n",
              "      background-color: #3B4455;\n",
              "      fill: #D2E3FC;\n",
              "    }\n",
              "\n",
              "    [theme=dark] .colab-df-convert:hover {\n",
              "      background-color: #434B5C;\n",
              "      box-shadow: 0px 1px 3px 1px rgba(0, 0, 0, 0.15);\n",
              "      filter: drop-shadow(0px 1px 2px rgba(0, 0, 0, 0.3));\n",
              "      fill: #FFFFFF;\n",
              "    }\n",
              "  </style>\n",
              "\n",
              "      <script>\n",
              "        const buttonEl =\n",
              "          document.querySelector('#df-f6385a14-8958-4098-826a-7cbeb8f45d9d button.colab-df-convert');\n",
              "        buttonEl.style.display =\n",
              "          google.colab.kernel.accessAllowed ? 'block' : 'none';\n",
              "\n",
              "        async function convertToInteractive(key) {\n",
              "          const element = document.querySelector('#df-f6385a14-8958-4098-826a-7cbeb8f45d9d');\n",
              "          const dataTable =\n",
              "            await google.colab.kernel.invokeFunction('convertToInteractive',\n",
              "                                                     [key], {});\n",
              "          if (!dataTable) return;\n",
              "\n",
              "          const docLinkHtml = 'Like what you see? Visit the ' +\n",
              "            '<a target=\"_blank\" href=https://colab.research.google.com/notebooks/data_table.ipynb>data table notebook</a>'\n",
              "            + ' to learn more about interactive tables.';\n",
              "          element.innerHTML = '';\n",
              "          dataTable['output_type'] = 'display_data';\n",
              "          await google.colab.output.renderOutput(dataTable, element);\n",
              "          const docLink = document.createElement('div');\n",
              "          docLink.innerHTML = docLinkHtml;\n",
              "          element.appendChild(docLink);\n",
              "        }\n",
              "      </script>\n",
              "    </div>\n",
              "  </div>\n",
              "  "
            ],
            "text/plain": [
              "         Car Make Car Model  Year Engine Size (L) Horsepower Torque (lb-ft)  \\\n",
              "0         Porsche       911  2022               3        379            331   \n",
              "1     Lamborghini   Huracan  2021             5.2        630            443   \n",
              "2         Ferrari   488 GTB  2022             3.9        661            561   \n",
              "3            Audi        R8  2022             5.2        562            406   \n",
              "4         McLaren      720S  2021               4        710            568   \n",
              "...           ...       ...   ...             ...        ...            ...   \n",
              "1002   Koenigsegg     Jesko  2022               5       1280           1106   \n",
              "1003        Lotus     Evija  2021  Electric Motor       1972           1254   \n",
              "1004      McLaren     Senna  2021               4        789            590   \n",
              "1005       Pagani    Huayra  2021               6        764            738   \n",
              "1006        Rimac    Nevera  2021  Electric Motor       1888           1696   \n",
              "\n",
              "     0-60 MPH Time (seconds) Price (in USD)  \n",
              "0                          4        101,200  \n",
              "1                        2.8        274,390  \n",
              "2                          3        333,750  \n",
              "3                        3.2        142,700  \n",
              "4                        2.7        298,000  \n",
              "...                      ...            ...  \n",
              "1002                     2.5      3,000,000  \n",
              "1003                       2      2,000,000  \n",
              "1004                     2.7      1,000,000  \n",
              "1005                       3      2,600,000  \n",
              "1006                    1.85      2,400,000  \n",
              "\n",
              "[1007 rows x 8 columns]"
            ]
          },
          "execution_count": 118,
          "metadata": {},
          "output_type": "execute_result"
        }
      ],
      "source": [
        "df.dropna(thresh = 2)"
      ]
    },
    {
      "cell_type": "code",
      "execution_count": null,
      "metadata": {
        "colab": {
          "base_uri": "https://localhost:8080/"
        },
        "id": "l8GNN3Cvcjew",
        "outputId": "4925dac2-6a62-490c-c338-969e1c6e5fcc"
      },
      "outputs": [
        {
          "name": "stdout",
          "output_type": "stream",
          "text": [
            "Number of rows before discarding duplicates = 1007\n",
            "Number of rows after discarding duplicates = 719\n"
          ]
        }
      ],
      "source": [
        "print('Number of rows before discarding duplicates = %d' % (df.shape[0]))\n",
        "data2 = df.drop_duplicates()\n",
        "print( 'Number of rows after discarding duplicates = %d' % (data2.shape[0]))"
      ]
    },
    {
      "cell_type": "code",
      "execution_count": null,
      "metadata": {
        "colab": {
          "base_uri": "https://localhost:8080/"
        },
        "id": "kWeFJ-Zia0c7",
        "outputId": "060c42c9-e1b4-4ada-8017-f93017625d7d"
      },
      "outputs": [
        {
          "data": {
            "text/plain": [
              "(1964.942, 1974.667]       1\n",
              "(1974.667, 1984.333]       0\n",
              "(1984.333, 1994.0]         0\n",
              "(1994.0, 2003.667]         0\n",
              "(2003.667, 2013.333]       0\n",
              "(2013.333, 2023.0]      1006\n",
              "Name: Year, dtype: int64"
            ]
          },
          "execution_count": 121,
          "metadata": {},
          "output_type": "execute_result"
        }
      ],
      "source": [
        "bins = pd.cut(df['Year'], 6)\n",
        "bins.value_counts(sort=False)"
      ]
    },
    {
      "cell_type": "code",
      "execution_count": null,
      "metadata": {
        "colab": {
          "base_uri": "https://localhost:8080/"
        },
        "id": "rebZmjFAfj0v",
        "outputId": "7420251f-07dc-4f14-b247-e6ced30f56bb"
      },
      "outputs": [
        {
          "name": "stdout",
          "output_type": "stream",
          "text": [
            "Car Make                       W Motors\n",
            "Car Model                            i8\n",
            "Year                               2023\n",
            "Engine Size (L)            Hybrid (4.0)\n",
            "Horsepower                          986\n",
            "0-60 MPH Time (seconds)           < 1.9\n",
            "Price (in USD)                   99,990\n",
            "dtype: object\n"
          ]
        },
        {
          "name": "stderr",
          "output_type": "stream",
          "text": [
            "<ipython-input-120-63285b1d6ff3>:1: FutureWarning: Dropping of nuisance columns in DataFrame reductions (with 'numeric_only=None') is deprecated; in a future version this will raise TypeError.  Select only valid columns before calling the reduction.\n",
            "  print(df.max())\n"
          ]
        }
      ],
      "source": [
        "print(df.max())"
      ]
    },
    {
      "cell_type": "code",
      "execution_count": null,
      "metadata": {
        "id": "EWIzr73wiAWE"
      },
      "outputs": [],
      "source": [
        "import matplotlib.pyplot as plt\n",
        "import seaborn as sb"
      ]
    },
    {
      "cell_type": "code",
      "execution_count": null,
      "metadata": {
        "colab": {
          "base_uri": "https://localhost:8080/",
          "height": 428
        },
        "id": "ZpZQW_MnimQT",
        "outputId": "6b20e31d-5f34-4ad2-b483-169f2c203462"
      },
      "outputs": [
        {
          "data": {
            "text/plain": [
              "<Axes: ylabel='Year'>"
            ]
          },
          "execution_count": 161,
          "metadata": {},
          "output_type": "execute_result"
        },
        {
          "data": {
            "image/png": "[encoded data removed]",
            "text/plain": [
              "<Figure size 640x480 with 1 Axes>"
            ]
          },
          "metadata": {},
          "output_type": "display_data"
        }
      ],
      "source": [
        "sb.boxplot(y=df.Year)\n"
      ]
    },
    {
      "cell_type": "code",
      "execution_count": null,
      "metadata": {
        "colab": {
          "base_uri": "https://localhost:8080/",
          "height": 569
        },
        "id": "u1YI18lJylpm",
        "outputId": "b1f15581-e2b6-4bdb-893a-3e55b88e7417"
      },
      "outputs": [
        {
          "data": {
            "text/plain": [
              "{'whiskers': [<matplotlib.lines.Line2D at 0x7fac722ecfa0>,\n",
              "  <matplotlib.lines.Line2D at 0x7fac72279280>],\n",
              " 'caps': [<matplotlib.lines.Line2D at 0x7fac72279520>,\n",
              "  <matplotlib.lines.Line2D at 0x7fac722797c0>],\n",
              " 'boxes': [<matplotlib.lines.Line2D at 0x7fac722ecd00>],\n",
              " 'medians': [<matplotlib.lines.Line2D at 0x7fac72279a60>],\n",
              " 'fliers': [<matplotlib.lines.Line2D at 0x7fac72279d00>],\n",
              " 'means': []}"
            ]
          },
          "execution_count": 165,
          "metadata": {},
          "output_type": "execute_result"
        },
        {
          "data": {
            "image/png": "[encoded data removed]",
            "text/plain": [
              "<Figure size 640x480 with 1 Axes>"
            ]
          },
          "metadata": {},
          "output_type": "display_data"
        }
      ],
      "source": [
        "plt.boxplot(df[\"Year\"])"
      ]
    },
    {
      "cell_type": "code",
      "execution_count": null,
      "metadata": {
        "colab": {
          "base_uri": "https://localhost:8080/",
          "height": 470
        },
        "id": "jlr7S64ToAfL",
        "outputId": "374bc30c-6f34-4730-bd02-7ba7b09e9ba4"
      },
      "outputs": [
        {
          "data": {
            "text/plain": [
              "<Axes: xlabel='0-60 MPH Time (seconds)', ylabel='Count'>"
            ]
          },
          "execution_count": 162,
          "metadata": {},
          "output_type": "execute_result"
        },
        {
          "data": {
            "image/png": "[encoded data removed]",
            "text/plain": [
              "<Figure size 640x480 with 1 Axes>"
            ]
          },
          "metadata": {},
          "output_type": "display_data"
        }
      ],
      "source": [
        "sb.histplot(x=df[\"0-60 MPH Time (seconds)\"])\n"
      ]
    },
    {
      "cell_type": "code",
      "execution_count": null,
      "metadata": {
        "colab": {
          "base_uri": "https://localhost:8080/",
          "height": 482
        },
        "id": "gS_8Gy0ny0ab",
        "outputId": "c3ba0453-3c7f-4006-89a7-96d4c991ee54"
      },
      "outputs": [
        {
          "data": {
            "text/plain": [
              "(array([194., 321.,  76., 103.,  84., 109.,  55.,  38.,  16.,  11.]),\n",
              " array([ 0. ,  4.2,  8.4, 12.6, 16.8, 21. , 25.2, 29.4, 33.6, 37.8, 42. ]),\n",
              " <BarContainer object of 10 artists>)"
            ]
          },
          "execution_count": 166,
          "metadata": {},
          "output_type": "execute_result"
        },
        {
          "data": {
            "image/png": "[encoded data removed]",
            "text/plain": [
              "<Figure size 640x480 with 1 Axes>"
            ]
          },
          "metadata": {},
          "output_type": "display_data"
        }
      ],
      "source": [
        "plt.hist(df[\"0-60 MPH Time (seconds)\"])"
      ]
    },
    {
      "cell_type": "code",
      "execution_count": null,
      "metadata": {
        "colab": {
          "base_uri": "https://localhost:8080/",
          "height": 447
        },
        "id": "EQdO_RgDsgiE",
        "outputId": "00be84b3-bd4d-4e03-8bbf-baf40aa3d858"
      },
      "outputs": [
        {
          "data": {
            "text/plain": [
              "<Axes: ylabel='0-60 MPH Time (seconds)'>"
            ]
          },
          "execution_count": 168,
          "metadata": {},
          "output_type": "execute_result"
        },
        {
          "data": {
            "image/png": "[encoded data removed]",
            "text/plain": [
              "<Figure size 640x480 with 1 Axes>"
            ]
          },
          "metadata": {},
          "output_type": "display_data"
        }
      ],
      "source": [
        "sb.scatterplot(df[\"0-60 MPH Time (seconds)\"])\n"
      ]
    },
    {
      "cell_type": "code",
      "execution_count": null,
      "metadata": {
        "colab": {
          "base_uri": "https://localhost:8080/",
          "height": 447
        },
        "id": "w07USTD6zBI0",
        "outputId": "3b6d38d0-0cc1-4561-bf84-1ab14cbd9449"
      },
      "outputs": [
        {
          "data": {
            "text/plain": [
              "<matplotlib.collections.PathCollection at 0x7fac721a6280>"
            ]
          },
          "execution_count": 167,
          "metadata": {},
          "output_type": "execute_result"
        },
        {
          "data": {
            "image/png": "[encoded data removed]",
            "text/plain": [
              "<Figure size 640x480 with 1 Axes>"
            ]
          },
          "metadata": {},
          "output_type": "display_data"
        }
      ],
      "source": [
        "plt.scatter(df[\"Horsepower\"],df[\"0-60 MPH Time (seconds)\"])"
      ]
    }
  ],
  "metadata": {
    "colab": {
      "provenance": []
    },
    "kernelspec": {
      "display_name": "Python 3",
      "name": "python3"
    },
    "language_info": {
      "name": "python"
    }
  },
  "nbformat": 4,
  "nbformat_minor": 0
}
